{
 "cells": [
  {
   "cell_type": "code",
   "execution_count": 8,
   "metadata": {
    "ExecuteTime": {
     "end_time": "2021-02-24T06:01:14.914674Z",
     "start_time": "2021-02-24T06:01:12.817914Z"
    }
   },
   "outputs": [],
   "source": [
    "import pandas as pd\n",
    "import numpy as np\n",
    "from random import sample\n",
    "from sklearn.metrics import mean_squared_error, median_absolute_error, r2_score, median_absolute_error"
   ]
  },
  {
   "cell_type": "code",
   "execution_count": 9,
   "metadata": {
    "ExecuteTime": {
     "end_time": "2021-02-24T06:01:14.959000Z",
     "start_time": "2021-02-24T06:01:14.916652Z"
    }
   },
   "outputs": [],
   "source": [
    "df = pd.read_csv('./wikitext-2/cvaw4.csv')"
   ]
  },
  {
   "cell_type": "code",
   "execution_count": 10,
   "metadata": {
    "ExecuteTime": {
     "end_time": "2021-02-24T06:01:22.599637Z",
     "start_time": "2021-02-24T06:01:14.960915Z"
    }
   },
   "outputs": [
    {
     "name": "stdout",
     "output_type": "stream",
     "text": [
      "fold: 0\n",
      "coverage : 0.8729863692688972\n",
      "coverage : 0.8586956521739131\n",
      "coverage : 0.8217391304347826\n",
      "fold: 1\n",
      "coverage : 0.8667079975201488\n",
      "coverage : 0.8676789587852495\n",
      "coverage : 0.8478260869565217\n",
      "fold: 2\n",
      "coverage : 0.866088034717917\n",
      "coverage : 0.8655097613882863\n",
      "coverage : 0.8565217391304348\n",
      "fold: 3\n",
      "coverage : 0.8586484810911346\n",
      "coverage : 0.8720173535791758\n",
      "coverage : 0.8956521739130435\n",
      "fold: 4\n",
      "coverage : 0.8648481091134532\n",
      "coverage : 0.8611713665943601\n",
      "coverage : 0.8739130434782608\n"
     ]
    }
   ],
   "source": [
    "sentiment_index=[]\n",
    "for f in [0, 1, 2, 3, 4]:\n",
    "    print('fold: {}'.format(f))\n",
    "    train = pd.read_csv('train{}.csv'.format(f), header=None)\n",
    "    test = pd.read_csv('test{}.csv'.format(f), header=None)\n",
    "    val = pd.read_csv('val{}.csv'.format(f), header=None)\n",
    "    for t in [train, test, val]:\n",
    "        kw = [([w.split('(')[:-1][0] for w in l.split(' ')]) for l in t[1]]\n",
    "        index = []\n",
    "        for i,s in enumerate(kw):\n",
    "            if len((set(s) & set(list(df['Word'])))) >0:\n",
    "                index.append(i)\n",
    "        print('coverage :', len(index)/len(kw))\n",
    "        sentiment_index.append(index)"
   ]
  },
  {
   "cell_type": "code",
   "execution_count": 13,
   "metadata": {
    "ExecuteTime": {
     "end_time": "2021-02-24T06:01:22.732024Z",
     "start_time": "2021-02-24T06:01:22.720343Z"
    }
   },
   "outputs": [],
   "source": [
    "def evaluate(df, index, SW=True):\n",
    "    if SW == True:\n",
    "        temp_df = df.loc[index]\n",
    "    else:\n",
    "        temp_df = df.loc[~df.index.isin(index)]\n",
    "    RMSE_V = mean_squared_error(temp_df['labelV'], temp_df['predictV'], squared=False)\n",
    "    RMSE_A = mean_squared_error(temp_df['labelA'], temp_df['predictA'], squared=False)\n",
    "    MAE_V = median_absolute_error(temp_df['labelV'], temp_df['predictV'])\n",
    "    MAE_A = median_absolute_error(temp_df['labelA'], temp_df['predictA'])\n",
    "    R_V = r2_score(temp_df['labelV'], temp_df['predictV'])\n",
    "    R_A = r2_score(temp_df['labelA'], temp_df['predictA'])\n",
    "    MDAE_V = median_absolute_error(temp_df['labelV'], temp_df['predictV'])\n",
    "    MDAE_A = median_absolute_error(temp_df['labelA'], temp_df['predictA'])\n",
    "    return (RMSE_V+RMSE_A), (MAE_V+MAE_A), (R_V+R_A), (MDAE_V+MDAE_A)"
   ]
  },
  {
   "cell_type": "code",
   "execution_count": 21,
   "metadata": {
    "ExecuteTime": {
     "end_time": "2021-02-24T06:02:19.735858Z",
     "start_time": "2021-02-24T06:02:19.658281Z"
    }
   },
   "outputs": [],
   "source": [
    "def calculate(mlm, alpha, model):\n",
    "    result = []\n",
    "    if model == 'VA_BERT_no_mask':\n",
    "        fold0 = pd.read_csv('../output/VA_BERT_alpha230/VA_BERT_no_mask/output/original/fold0/test_predict.csv')\n",
    "        fold1 = pd.read_csv('../output/VA_BERT_alpha230/VA_BERT_no_mask/output/original/fold1/test_predict.csv')\n",
    "        fold2 = pd.read_csv('../output/VA_BERT_alpha230/VA_BERT_no_mask/output/original/fold2/test_predict.csv')\n",
    "        fold3 = pd.read_csv('../output/VA_BERT_alpha230/VA_BERT_no_mask/output/original/fold3/test_predict.csv')\n",
    "        fold4 = pd.read_csv('../output/VA_BERT_alpha230/VA_BERT_no_mask/output/original/fold4/test_predict.csv')\n",
    "    else:\n",
    "        fold0 = pd.read_csv('../output/VA_BERT_alpha230/{}/output/fold0/output{}/alpha{}/test_predict{}.csv'.format(model, mlm, alpha, mlm))\n",
    "        fold1 = pd.read_csv('../output/VA_BERT_alpha230/{}/output/fold1/output{}/alpha{}/test_predict{}.csv'.format(model, mlm, alpha, mlm))\n",
    "        fold2 = pd.read_csv('../output/VA_BERT_alpha230/{}/output/fold2/output{}/alpha{}/test_predict{}.csv'.format(model, mlm, alpha, mlm))\n",
    "        fold3 = pd.read_csv('../output/VA_BERT_alpha230/{}/output/fold3/output{}/alpha{}/test_predict{}.csv'.format(model, mlm, alpha, mlm))\n",
    "        fold4 = pd.read_csv('../output/VA_BERT_alpha230/{}/output/fold4/output{}/alpha{}/test_predict{}.csv'.format(model, mlm, alpha, mlm))\n",
    "    for d in [fold0, fold1, fold2, fold3, fold4]:\n",
    "        temp=[]\n",
    "        for index in ['labelV', 'labelA', 'predictV', 'predictA']:\n",
    "            temp.append([eval(i)[0] for i in list(d[index])])\n",
    "        result.append(temp)\n",
    "\n",
    "    for i,c in enumerate(['labelV', 'labelA', 'predictV', 'predictA']):\n",
    "        fold0[c] = result[0][i]\n",
    "        fold1[c] = result[1][i]\n",
    "        fold2[c] = result[2][i]\n",
    "        fold3[c] = result[3][i]\n",
    "        fold4[c] = result[4][i]\n",
    "\n",
    "    RMSE_T = 0\n",
    "    MAE_T = 0\n",
    "    R_T = 0\n",
    "    MDAE_T = 0\n",
    "\n",
    "    RMSE_F = 0\n",
    "    MAE_F = 0\n",
    "    R_F = 0\n",
    "    MDAE_F = 0\n",
    "    for sw in ['Y','N']:    \n",
    "        for i,(df, index) in enumerate([(fold0, sentiment_index[1]), (fold1, sentiment_index[4]), (fold2, sentiment_index[7]), (fold3, sentiment_index[10]), (fold4, sentiment_index[13])]):\n",
    "            if sw == 'Y':\n",
    "                RMSE, MAE, R, MDAE = evaluate(df, index)\n",
    "                RMSE_T += RMSE\n",
    "                MAE_T += MAE\n",
    "                R_T += R\n",
    "                MDAE_T += MDAE\n",
    "            else:\n",
    "                RMSE, MAE, R, MDAE = evaluate(df, index, SW=False)\n",
    "                RMSE_F += RMSE\n",
    "                MAE_F += MAE\n",
    "                R_F += R\n",
    "                MDAE_F += MDAE\n",
    "    return RMSE_T/5, MAE_T/5, R_T/5, MDAE_T/5, RMSE_F/5, MAE_F/5, R_F/5, MDAE_F/5"
   ]
  },
  {
   "cell_type": "code",
   "execution_count": 25,
   "metadata": {
    "ExecuteTime": {
     "end_time": "2021-02-24T06:04:18.626174Z",
     "start_time": "2021-02-24T06:04:17.743241Z"
    }
   },
   "outputs": [],
   "source": [
    "df = pd.DataFrame({'model':[], 'mlm':[], 'alpha':[],'YSW_RMSE':[],'YSW_MAE':[],'YSW_R':[],'YSW_MDAE':[],'NSW_RMSE':[],'NSW_MAE':[],'NSW_R':[],'NSW_MDAE':[]})\n",
    "l = [(0.05, 0.6, 'VA_BERT_random_mask'),\n",
    "     (0.1, 1, 'VA_BERT_mask_sentiment'),\n",
    "     (0.35, 1, 'VA_BERT_mask_sentiment_prob_V'),\n",
    "     (0.15, 1, 'VA_BERT_mask_sentiment_prob_reverse_V'),\n",
    "     (0.2, 1, 'VA_BERT_mask_sentiment_prob_A'),\n",
    "     (0.25, 0.8,'VA_BERT_mask_sentiment_prob_reverse_A'),\n",
    "     (0.2, 1,'VA_BERT_mask_sentiment_prob_Union'),\n",
    "     (0.3, 0.6,'VA_BERT_mask_sentiment_prob_Intersection')\n",
    "     ]\n",
    "for mlm, alpha, model in l:\n",
    "    RMSE_T, MAE_T, R_T, MDAE_T, RMSE_F, MAE_F, R_F, MDAE_F = calculate(mlm, alpha, model)\n",
    "    d_temp = {'model':model, 'mlm':mlm, \"alpha\":alpha, 'YSW_RMSE':RMSE_T,'YSW_MAE':MAE_T, 'YSW_MDAE':MDAE_T, 'YSW_R':R_T,'NSW_RMSE':RMSE_F,'NSW_MAE':MAE_F,'NSW_R':R_F,'NSW_MDAE':MDAE_F}\n",
    "    df = df.append(d_temp, ignore_index=True)"
   ]
  },
  {
   "cell_type": "code",
   "execution_count": 26,
   "metadata": {
    "ExecuteTime": {
     "end_time": "2021-02-24T06:04:18.642770Z",
     "start_time": "2021-02-24T06:04:18.628022Z"
    }
   },
   "outputs": [
    {
     "data": {
      "text/html": [
       "<div>\n",
       "<style scoped>\n",
       "    .dataframe tbody tr th:only-of-type {\n",
       "        vertical-align: middle;\n",
       "    }\n",
       "\n",
       "    .dataframe tbody tr th {\n",
       "        vertical-align: top;\n",
       "    }\n",
       "\n",
       "    .dataframe thead th {\n",
       "        text-align: right;\n",
       "    }\n",
       "</style>\n",
       "<table border=\"1\" class=\"dataframe\">\n",
       "  <thead>\n",
       "    <tr style=\"text-align: right;\">\n",
       "      <th></th>\n",
       "      <th>model</th>\n",
       "      <th>mlm</th>\n",
       "      <th>alpha</th>\n",
       "      <th>YSW_RMSE</th>\n",
       "      <th>YSW_MAE</th>\n",
       "      <th>YSW_R</th>\n",
       "      <th>YSW_MDAE</th>\n",
       "      <th>NSW_RMSE</th>\n",
       "      <th>NSW_MAE</th>\n",
       "      <th>NSW_R</th>\n",
       "      <th>NSW_MDAE</th>\n",
       "    </tr>\n",
       "  </thead>\n",
       "  <tbody>\n",
       "    <tr>\n",
       "      <th>0</th>\n",
       "      <td>VA_BERT_random_mask</td>\n",
       "      <td>0.05</td>\n",
       "      <td>0.6</td>\n",
       "      <td>1.349117</td>\n",
       "      <td>0.828541</td>\n",
       "      <td>0.829048</td>\n",
       "      <td>0.828541</td>\n",
       "      <td>1.510580</td>\n",
       "      <td>0.894056</td>\n",
       "      <td>0.508402</td>\n",
       "      <td>0.894056</td>\n",
       "    </tr>\n",
       "    <tr>\n",
       "      <th>1</th>\n",
       "      <td>VA_BERT_mask_sentiment</td>\n",
       "      <td>0.10</td>\n",
       "      <td>1.0</td>\n",
       "      <td>1.405628</td>\n",
       "      <td>0.864860</td>\n",
       "      <td>0.731315</td>\n",
       "      <td>0.864860</td>\n",
       "      <td>1.543692</td>\n",
       "      <td>0.960799</td>\n",
       "      <td>0.448930</td>\n",
       "      <td>0.960799</td>\n",
       "    </tr>\n",
       "    <tr>\n",
       "      <th>2</th>\n",
       "      <td>VA_BERT_mask_sentiment_prob_V</td>\n",
       "      <td>0.35</td>\n",
       "      <td>1.0</td>\n",
       "      <td>1.456691</td>\n",
       "      <td>0.868210</td>\n",
       "      <td>0.626873</td>\n",
       "      <td>0.868210</td>\n",
       "      <td>1.520450</td>\n",
       "      <td>0.913379</td>\n",
       "      <td>0.503224</td>\n",
       "      <td>0.913379</td>\n",
       "    </tr>\n",
       "    <tr>\n",
       "      <th>3</th>\n",
       "      <td>VA_BERT_mask_sentiment_prob_reverse_V</td>\n",
       "      <td>0.15</td>\n",
       "      <td>1.0</td>\n",
       "      <td>1.359794</td>\n",
       "      <td>0.843162</td>\n",
       "      <td>0.819790</td>\n",
       "      <td>0.843162</td>\n",
       "      <td>1.538357</td>\n",
       "      <td>0.950992</td>\n",
       "      <td>0.461046</td>\n",
       "      <td>0.950992</td>\n",
       "    </tr>\n",
       "    <tr>\n",
       "      <th>4</th>\n",
       "      <td>VA_BERT_mask_sentiment_prob_A</td>\n",
       "      <td>0.20</td>\n",
       "      <td>1.0</td>\n",
       "      <td>1.406134</td>\n",
       "      <td>0.874459</td>\n",
       "      <td>0.719666</td>\n",
       "      <td>0.874459</td>\n",
       "      <td>1.532403</td>\n",
       "      <td>0.865385</td>\n",
       "      <td>0.487399</td>\n",
       "      <td>0.865385</td>\n",
       "    </tr>\n",
       "    <tr>\n",
       "      <th>5</th>\n",
       "      <td>VA_BERT_mask_sentiment_prob_reverse_A</td>\n",
       "      <td>0.25</td>\n",
       "      <td>0.8</td>\n",
       "      <td>1.398848</td>\n",
       "      <td>0.847987</td>\n",
       "      <td>0.740688</td>\n",
       "      <td>0.847987</td>\n",
       "      <td>1.568689</td>\n",
       "      <td>0.925955</td>\n",
       "      <td>0.419301</td>\n",
       "      <td>0.925955</td>\n",
       "    </tr>\n",
       "    <tr>\n",
       "      <th>6</th>\n",
       "      <td>VA_BERT_mask_sentiment_prob_Union</td>\n",
       "      <td>0.20</td>\n",
       "      <td>1.0</td>\n",
       "      <td>1.354220</td>\n",
       "      <td>0.848560</td>\n",
       "      <td>0.819505</td>\n",
       "      <td>0.848560</td>\n",
       "      <td>1.499125</td>\n",
       "      <td>0.970106</td>\n",
       "      <td>0.542491</td>\n",
       "      <td>0.970106</td>\n",
       "    </tr>\n",
       "    <tr>\n",
       "      <th>7</th>\n",
       "      <td>VA_BERT_mask_sentiment_prob_Intersection</td>\n",
       "      <td>0.30</td>\n",
       "      <td>0.6</td>\n",
       "      <td>1.330129</td>\n",
       "      <td>0.832632</td>\n",
       "      <td>0.861153</td>\n",
       "      <td>0.832632</td>\n",
       "      <td>1.486687</td>\n",
       "      <td>0.925858</td>\n",
       "      <td>0.582571</td>\n",
       "      <td>0.925858</td>\n",
       "    </tr>\n",
       "  </tbody>\n",
       "</table>\n",
       "</div>"
      ],
      "text/plain": [
       "                                      model   mlm  alpha  YSW_RMSE   YSW_MAE  \\\n",
       "0                       VA_BERT_random_mask  0.05    0.6  1.349117  0.828541   \n",
       "1                    VA_BERT_mask_sentiment  0.10    1.0  1.405628  0.864860   \n",
       "2             VA_BERT_mask_sentiment_prob_V  0.35    1.0  1.456691  0.868210   \n",
       "3     VA_BERT_mask_sentiment_prob_reverse_V  0.15    1.0  1.359794  0.843162   \n",
       "4             VA_BERT_mask_sentiment_prob_A  0.20    1.0  1.406134  0.874459   \n",
       "5     VA_BERT_mask_sentiment_prob_reverse_A  0.25    0.8  1.398848  0.847987   \n",
       "6         VA_BERT_mask_sentiment_prob_Union  0.20    1.0  1.354220  0.848560   \n",
       "7  VA_BERT_mask_sentiment_prob_Intersection  0.30    0.6  1.330129  0.832632   \n",
       "\n",
       "      YSW_R  YSW_MDAE  NSW_RMSE   NSW_MAE     NSW_R  NSW_MDAE  \n",
       "0  0.829048  0.828541  1.510580  0.894056  0.508402  0.894056  \n",
       "1  0.731315  0.864860  1.543692  0.960799  0.448930  0.960799  \n",
       "2  0.626873  0.868210  1.520450  0.913379  0.503224  0.913379  \n",
       "3  0.819790  0.843162  1.538357  0.950992  0.461046  0.950992  \n",
       "4  0.719666  0.874459  1.532403  0.865385  0.487399  0.865385  \n",
       "5  0.740688  0.847987  1.568689  0.925955  0.419301  0.925955  \n",
       "6  0.819505  0.848560  1.499125  0.970106  0.542491  0.970106  \n",
       "7  0.861153  0.832632  1.486687  0.925858  0.582571  0.925858  "
      ]
     },
     "execution_count": 26,
     "metadata": {},
     "output_type": "execute_result"
    }
   ],
   "source": [
    "df"
   ]
  },
  {
   "cell_type": "markdown",
   "metadata": {
    "ExecuteTime": {
     "end_time": "2021-02-16T15:06:32.406041Z",
     "start_time": "2021-02-16T15:06:32.396403Z"
    }
   },
   "source": [
    "Intersection:\n",
    "--------------------------------------------------\n",
    "YSW RMSE : 1.3301292504978588\n",
    "YSW MAE : 0.8326318740844727\n",
    "YSW R : 0.8611529807466987\n",
    "YSW MDAE : 0.8326318740844727\n",
    "--------------------------------------------------\n",
    "NSW RMSE : 1.4866870559628411\n",
    "NSW MAE : 0.9258579254150391\n",
    "NSW R : 0.5825708000681096\n",
    "NSW MDAE : 0.9258579254150391\n",
    "\n",
    "No Mask:\n",
    "--------------------------------------------------\n",
    "YSW RMSE : 1.358770312764328\n",
    "YSW MAE : 0.8704164981842041\n",
    "YSW R : 0.8153108069511191\n",
    "YSW MDAE : 0.8704164981842041\n",
    "--------------------------------------------------\n",
    "NSW RMSE : 1.4789674011969687\n",
    "NSW MAE : 0.9208626747131348\n",
    "NSW R : 0.5890001550543993\n",
    "NSW MDAE : 0.9208626747131348"
   ]
  },
  {
   "cell_type": "code",
   "execution_count": null,
   "metadata": {},
   "outputs": [],
   "source": []
  }
 ],
 "metadata": {
  "kernelspec": {
   "display_name": "Python 3",
   "language": "python",
   "name": "python3"
  },
  "language_info": {
   "codemirror_mode": {
    "name": "ipython",
    "version": 3
   },
   "file_extension": ".py",
   "mimetype": "text/x-python",
   "name": "python",
   "nbconvert_exporter": "python",
   "pygments_lexer": "ipython3",
   "version": "3.7.3"
  }
 },
 "nbformat": 4,
 "nbformat_minor": 4
}
