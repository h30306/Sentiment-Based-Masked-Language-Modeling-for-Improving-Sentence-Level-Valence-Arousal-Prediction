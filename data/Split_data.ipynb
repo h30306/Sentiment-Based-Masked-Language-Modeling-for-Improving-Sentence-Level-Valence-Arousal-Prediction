{
 "cells": [
  {
   "cell_type": "code",
   "execution_count": 2,
   "metadata": {
    "ExecuteTime": {
     "end_time": "2021-02-08T08:33:42.443255Z",
     "start_time": "2021-02-08T08:33:41.737695Z"
    }
   },
   "outputs": [],
   "source": [
    "import pandas as pd\n",
    "import numpy as np\n",
    "from random import sample"
   ]
  },
  {
   "cell_type": "code",
   "execution_count": 3,
   "metadata": {
    "ExecuteTime": {
     "end_time": "2020-12-06T15:34:40.159785Z",
     "start_time": "2020-12-06T15:34:40.111189Z"
    }
   },
   "outputs": [],
   "source": [
    "df = pd.read_csv('./wikitext-2/DVA_dataset.csv',header=None)"
   ]
  },
  {
   "cell_type": "code",
   "execution_count": 4,
   "metadata": {
    "ExecuteTime": {
     "end_time": "2020-12-06T15:34:41.847344Z",
     "start_time": "2020-12-06T15:34:41.843140Z"
    }
   },
   "outputs": [],
   "source": [
    "l = list(range(len(df)))"
   ]
  },
  {
   "cell_type": "code",
   "execution_count": 8,
   "metadata": {
    "ExecuteTime": {
     "end_time": "2020-12-06T15:34:59.228289Z",
     "start_time": "2020-12-06T15:34:59.216117Z"
    }
   },
   "outputs": [],
   "source": [
    "v1 = sample(l, 460)\n",
    "l = list(set(l)-set(v1))\n",
    "v2 = sample(l, 461)\n",
    "l = list(set(l)-set(v2))\n",
    "v3 = sample(l, 461)\n",
    "l = list(set(l)-set(v3))\n",
    "v4 = sample(l, 461)\n",
    "l = list(set(l)-set(v4))\n",
    "v5 = sample(l, 461)\n",
    "l = list(set(l)-set(v5))"
   ]
  },
  {
   "cell_type": "code",
   "execution_count": 56,
   "metadata": {},
   "outputs": [],
   "source": [
    "def split(df, v_index):\n",
    "    test = df.ix[v_index]\n",
    "    train = df.loc[~df.index.isin(v_index)]\n",
    "    val = train.sample(58)\n",
    "    train = train.loc[~train.index.isin(list(val.index))]\n",
    "    return train, val, test"
   ]
  },
  {
   "cell_type": "code",
   "execution_count": 57,
   "metadata": {},
   "outputs": [
    {
     "name": "stderr",
     "output_type": "stream",
     "text": [
      "/anaconda3/lib/python3.7/site-packages/ipykernel_launcher.py:2: DeprecationWarning: \n",
      ".ix is deprecated. Please use\n",
      ".loc for label based indexing or\n",
      ".iloc for positional indexing\n",
      "\n",
      "See the documentation here:\n",
      "http://pandas.pydata.org/pandas-docs/stable/indexing.html#ix-indexer-is-deprecated\n",
      "  \n"
     ]
    }
   ],
   "source": [
    "for i,v in enumerate([v1,v2,v3,v4,v5]):\n",
    "    train, val, test = split(df, v)\n",
    "    train.to_csv('train{}.csv'.format(i),header=None,index=False)\n",
    "    val.to_csv('val{}.csv'.format(i),header=None,index=False)\n",
    "    test.to_csv('test{}.csv'.format(i),header=None,index=False)"
   ]
  }
 ],
 "metadata": {
  "kernelspec": {
   "display_name": "Python 3",
   "language": "python",
   "name": "python3"
  },
  "language_info": {
   "codemirror_mode": {
    "name": "ipython",
    "version": 3
   },
   "file_extension": ".py",
   "mimetype": "text/x-python",
   "name": "python",
   "nbconvert_exporter": "python",
   "pygments_lexer": "ipython3",
   "version": "3.7.3"
  }
 },
 "nbformat": 4,
 "nbformat_minor": 2
}
